{
  "cells": [
    {
      "cell_type": "markdown",
      "metadata": {},
      "source": [
        "## Задание\n",
        "\n",
        "Отфильтровать конфиги по маске spark.* и распечатать с помощью print()\n"
      ]
    },
    {
      "cell_type": "code",
      "execution_count": 1,
      "metadata": {
        "autoscroll": "auto"
      },
      "outputs": [],
      "source": [
        "%spark.pyspark\n",
        "\n",
        "# spark.shuffle.service.enabled: False\n",
        "\n",
        "\n",
        "list_with_configs = spark.sparkContext.getConf().getAll()\n",
        "list_with_configs"
      ]
    },
    {
      "cell_type": "code",
      "execution_count": 2,
      "metadata": {
        "autoscroll": "auto"
      },
      "outputs": [],
      "source": [
        "%spark.pyspark\n",
        "# Решение 1\n",
        "\n",
        "# Фильтрация конфигураций по маске spark.*\n",
        "filtered_config = filter(lambda x: x[0].startswith('spark.'), list_with_configs)\n",
        "\n",
        "# Вывод отфильтрованных конфигов\n",
        "for config in filtered_config:\n",
        "    print(f'{config[0]}: {config[1]}')"
      ]
    },
    {
      "cell_type": "code",
      "execution_count": 3,
      "metadata": {
        "autoscroll": "auto"
      },
      "outputs": [],
      "source": [
        "%spark.pyspark\n",
        "# Решение 2\n",
        "\n",
        "from pyspark.sql import Row\n",
        "\n",
        "# Создание DataFrame из списка кортежей\n",
        "rdd = spark.sparkContext.parallelize(list_with_configs)\n",
        "df = rdd.map(lambda x: Row(param=x[0], value=x[1])).toDF()\n",
        "\n",
        "# Фильтрация конфигураций по маске 'spark.*' и вывод результата\n",
        "# filtered_df = df.filter(df[\"param\"].like(\"spark.%\"))\n",
        "filtered_configs = df.filter(df[\"param\"].like(\"spark.%\")).collect()\n",
        "\n",
        "for row in filtered_configs:\n",
        "    print(f'{row.param}: {row.value}')"
      ]
    },
    {
      "cell_type": "code",
      "execution_count": 4,
      "metadata": {
        "autoscroll": "auto"
      },
      "outputs": [],
      "source": [
        "%spark.pyspark\n",
        "# Решение 3\n",
        "\n",
        "from pyspark.sql import Row\n",
        "import re\n",
        "\n",
        "# Cоздание DataFrame из списка кортежей\n",
        "df = spark.createDataFrame(list_with_configs, [\"param\", \"value\"])\n",
        "\n",
        "# Фильтрация конфигураций по маске 'spark.*'\n",
        "filtered_df = df.filter(df.param.rlike('^spark\\..*'))\n",
        "\n",
        "# Преобразование DataFrame в массив строк и вывод результата\n",
        "filtered_configs = filtered_df.collect()\n",
        "for row in filtered_configs:\n",
        "    print(f'{row.param}: {row.value}')"
      ]
    },
    {
      "cell_type": "code",
      "execution_count": 5,
      "metadata": {
        "autoscroll": "auto"
      },
      "outputs": [],
      "source": [
        "%spark.pyspark\n",
        "spark.stop()"
      ]
    },
    {
      "cell_type": "code",
      "execution_count": 6,
      "metadata": {
        "autoscroll": "auto"
      },
      "outputs": [],
      "source": [
        "%spark.pyspark\n",
        "spark.stop()"
      ]
    }
  ],
  "metadata": {
    "kernelspec": {
      "language": "scala",
      "name": "spark2-scala"
    },
    "language_info": {
      "codemirror_mode": "text/x-scala",
      "file_extension": ".scala",
      "mimetype": "text/x-scala",
      "name": "scala",
      "pygments_lexer": "scala"
    },
    "name": "homework_1"
  },
  "nbformat": 4,
  "nbformat_minor": 2
}
